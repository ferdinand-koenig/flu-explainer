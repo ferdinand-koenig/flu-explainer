{
 "cells": [
  {
   "cell_type": "markdown",
   "metadata": {},
   "source": [
    "# Group Project III — Evaluation & Iteration"
   ]
  },
  {
   "cell_type": "markdown",
   "metadata": {},
   "source": [
    "In this Assignment, we continue with the Group Project. You will make progress in the development of your group's Explanation Interface. You will also prepare a user study for next week's exercise to get feedback on the current state of your interface."
   ]
  },
  {
   "cell_type": "markdown",
   "metadata": {},
   "source": [
    "**✏️ Task 1** — **Explanation Interface development**  \n",
    "Hopefully, you have made some progress on your explanation interface over the past week. This task is meant to remind you that you will need to continue working on it until it is completed by July 18, 2024.\n",
    "\n",
    "*In the end, we expect your interface to have at least:*\n",
    "- *A title and description.*\n",
    "- *Information about the dataset and the relevant attributes.*\n",
    "- *Plots of the relevant data and distributions.*\n",
    "- *Interactivity.*\n",
    "- *Information about your models.*\n",
    "- *Information about the dataset's fairness.*\n",
    "- *Explanation methods.*\n",
    "- *Your interpretations of the explanations.*\n",
    "- *Your assessment about when to rely or not rely on the AI advise.*\n",
    "\n",
    "Please refer to the “**criteria for success/evaluation**” from the Project Information PDF during development. "
   ]
  },
  {
   "cell_type": "markdown",
   "metadata": {},
   "source": [
    "**✏️ Task 2** — **User Study: Interface preparation**  \n",
    "Ideally, you want to get feedback directly from your target audience. Unfortunately, you are unlikely to find someone like that in the short time you have to work on this assignment. However, during next week's exercise, we will have some guests with whom you can do a think-aloud study.\n",
    "\n",
    "*For the study, you need to prepare a version of your explanation interface that is good enough to be user tested.*\n",
    "- *Prepare a functioning test version of your explanation interface. It should be in a state where another person can review it and give feedback.*\n",
    "- *Make sure all your implementation ideas (or placeholders for them) are included.*\n",
    "- *As with the prototype in the last exercise, the user should be able to navigate through your entire application and understand the information you want to include.*\n",
    "\n",
    "Submit the zipped Python script(s) of your test version, and the relevant dataset(s) to Whiteboard. If the file size of your dataset is too large, then share a link to the dataset in a text file and submit it as well."
   ]
  },
  {
   "cell_type": "markdown",
   "metadata": {},
   "source": [
    "**✏️ Task 3** — **User Study: Formulating Tasks**  \n",
    "Prepare tasks for your user to solve during the think-aloud study. You should then be able to get direct feedback from the user when they have trouble solving their tasks and navigating through your interface to find the specific functionality or information.\n",
    " \n",
    "- *Write a description of your target audience. The user will play this role during the study.*\n",
    "- *Create at least **five** tasks for the think-aloud study. Your tasks should allow the user to test all the affordances of your explanation interface.*\n",
    "\n",
    "*Write down your description and tasks in the Markdown cell below.*\n",
    "\n"
   ]
  },
  {
   "metadata": {},
   "cell_type": "markdown",
   "source": ""
  },
  {
   "cell_type": "markdown",
   "metadata": {},
   "source": []
  },
  {
   "cell_type": "markdown",
   "metadata": {},
   "source": [
    "**✏️ Task 4** — **User Study: Preparing Feedback Questions**  \n",
    "During development, you may have asked yourself design questions about which you are not sure how your users will react. Now you have the opportunity to ask these questions after the think-aloud study.\n",
    "\n",
    "- *Think of at least **five** questions you would like the user to answer after using your application. Make these questions open-ended so that the answer is more than a \"yes\" or \"no\".*\n",
    "- *In addition, you should write down any other questions that you think are worth asking.* \n",
    "\n",
    "*Write down your questions in the Markdown cell below.*"
   ]
  },
  {
   "metadata": {},
   "cell_type": "markdown",
   "source": [
    "1. Which feature decision is your most favourite?\n",
    "2. Which feature decision (UI related) is the worst? Why? \n",
    "3. Are there any parts of the UI that are not self-explaining to you as a user? Which parts? Why?\n",
    "4. Is the interface missing important information you would like to see there? Which?\n",
    "5. Please rate the overall style of the interface and describe your rating\n",
    "6. Would you trust the information provided in the interface? Why?/Why not?"
   ]
  },
  {
   "cell_type": "markdown",
   "metadata": {},
   "source": []
  },
  {
   "cell_type": "markdown",
   "metadata": {},
   "source": [
    "--- \n",
    "## 📝 Feedback\n",
    "We are interested in your feedback in order to improve this course. We will read all of your feedback and evaluate it. What you share may have a direct impact on the rest of the course or future iterations of it.\n",
    "\n",
    "Write down your feedback on the lecture, the exercises, or the assignments in the Markdown cell below. Furthermore, please note the approximate time it took you to complete the assignment. You may also write about your insights, what you found interesting, or questions that you have."
   ]
  }
 ],
 "metadata": {
  "language_info": {
   "name": "python"
  }
 },
 "nbformat": 4,
 "nbformat_minor": 2
}
