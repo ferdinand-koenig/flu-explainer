{
 "cells": [
  {
   "cell_type": "markdown",
   "metadata": {},
   "source": [
    "# Group Project II — Prototyping"
   ]
  },
  {
   "cell_type": "markdown",
   "metadata": {},
   "source": [
    "In this assignment, you will continue working on the group project and create a prototype. To accomplish this, you will first think about the potential users of your Explanation Interface application and then generate ideas about how to design for them. Then, you will sketch the interface and implement an interactive prototype that you can share with others."
   ]
  },
  {
   "cell_type": "markdown",
   "metadata": {},
   "source": [
    "**✏️ Task 1** — **Defining Target Audience**  \n",
    "*While developing something you should always have your stakeholdes and the people using your final product in mind.*\n",
    "1. *List all potential stakeholders of your interface. Be generous about what you consider a stakeholder, and think of as many as possible. Remember the last time we discussed stakeholders during the exercise and who we mentioned.*\n",
    "2. *For each stakeholder, define their traits, and their interests in your Explanation Interface application.\n",
    "Write down your answers in the markdown cell below.*"
   ]
  },
  {
   "metadata": {},
   "cell_type": "markdown",
   "source": [
    "Stakeholders:\n",
    "executor(Doctors, medical professionals), data scientist/creator, data provider, examiners, Operator, decision subjects (patients)   "
   ]
  },
  {
   "cell_type": "markdown",
   "metadata": {},
   "source": [
    "**executors** want to understand the decisions; our interface should provide explanations and should be interactive \n",
    "  \n",
    "**data scientist** want to debug the model eg. data sheet, model label, shapley values, partial dependence, variable importance\n",
    "\n",
    "**data providers** require the safety of data provision: understand how the product is used\n",
    "\n",
    "**examiners** need transparency eg. shapley values, partial dependence, variable importance  \n",
    "\n",
    "**operators** want to improve the decisions\n",
    "\n",
    "**decision subjects** want to rely on the decisions of the model "
   ]
  },
  {
   "cell_type": "markdown",
   "metadata": {},
   "source": [
    "**✏️ Task 2** — **Crazy 4**  \n",
    "*You don't want to rush into prototyping without an idea of what you want to build. For this, you will use a method called “Crazy 4”. It is a rapid brainstorming method used in design thinking and prototyping, where participants sketch four different ideas in a short time frame of four minutes to explore a wide range of solutions. This technique encourages creativity by quickly generating multiple concepts and refining the most promising ideas for further development.*\n",
    "\n",
    "1. *Get an A4 sheet of paper for each member of your group.*\n",
    "2. *Each person folds their A4 paper into four equal sections.*\n",
    "3. *In a four-minute time frame, each member sketches one distinct idea in each section. One minute per idea (no extra time). Individuals sketch quietly and independently (no group work).* \n",
    "   \n",
    "*Take pictures of all the DIN A4 papers of your group members. Include them in your submission.*"
   ]
  },
  {
   "cell_type": "markdown",
   "metadata": {},
   "source": [
    "**✏️ Task 3** — **Sketch a low-fidelity prototype**  \n",
    "*Now it's time to decide on a single design you want to prototype.*\n",
    "1. *Conduct a collaborative review by briefly discussing each of your sketches to get a better understanding of what you want to develop.*\n",
    "2. *Vote on the sketches to choose the best one. Consider whether the sketch effectively answers the key questions you want to answer and whether it is appropriate for your target audience.*\n",
    "-> we did not decide for one and would like to include different aspects of the best sketches and merge them!\n",
    "Best ones: Merge Henrys first;Ferdinands last; \n",
    "TODO: add PICTURE!!! \n",
    "\n",
    "3. *Discuss the sketch you have chosen and continue to improve it.*\n",
    "4. *Create a single, more detailed sketch of your improved design on a new sheet of paper.*\n",
    "\n",
    "*Take a picture of the sheet of paper and include it with your submission.*"
   ]
  },
  {
   "cell_type": "markdown",
   "metadata": {},
   "source": [
    "**✏️ Task 4** — **Prototype creation.**    \n",
    "*Finally, you are ready to start prototyping. You want to create something you can share with others. We will have feedback rounds during the next exercise session.*\n",
    "\n",
    "- *Create an interactive prototype. You can use prototyping tools such as [Figma](https://www.figma.com/), [Balsamiq](https://balsamiq.com/), [Sketch](https://www.sketch.com/prototype/), etc. to develop it. Do not use Python to create your prototype yet!*\n",
    "- *Make sure the prototype implements all the ideas in your final sketch.*\n",
    "- *You should use placeholder text, boxes, and other elements, but the flow of how to navigate your application and what information the user can expect should be clear.*\n",
    "\n",
    "*Include a link to your prototype in the markdown cell below. Make sure that others have access to view it.*"
   ]
  },
  {
   "cell_type": "markdown",
   "metadata": {},
   "source": []
  },
  {
   "cell_type": "markdown",
   "metadata": {},
   "source": [
    "**✏️ Task 5 — Start developing the application.**  \n",
    "*After prototyping, you can start implementing your final application in Python, which will save you time later. You are not expected to submit anything for this task. Try to implement the ideas in your final sketch. But do not go too far into development, as changes are expected based on the prototype feedback.*"
   ]
  },
  {
   "cell_type": "markdown",
   "metadata": {},
   "source": [
    "--- \n",
    "## 📝 Feedback\n",
    "We are interested in your feedback in order to improve this course. We will read all of your feedback and evaluate it. What you share may have a direct impact on the rest of the course or future iterations of it.\n",
    "\n",
    "Write down your feedback on the lecture, the exercises, or the assignments in the Markdown cell below. Furthermore, please note the approximate time it took you to complete the assignment. You may also write about your insights, what you found interesting, or questions that you have."
   ]
  }
 ],
 "metadata": {
  "language_info": {
   "name": "python"
  }
 },
 "nbformat": 4,
 "nbformat_minor": 2
}
